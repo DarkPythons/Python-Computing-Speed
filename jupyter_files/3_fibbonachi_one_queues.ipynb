{
 "cells": [
  {
   "cell_type": "markdown",
   "metadata": {},
   "source": [
    "# Одна очередь - несколько процессов\n",
    "Использование очереди задач, но теперь процессов у нас ограниченное количество, то есть каждый процесс будет брать задачу (число) из очереди, делать нужные вычисления и помещать число фибоначчи в общий список результатов."
   ]
  },
  {
   "cell_type": "code",
   "execution_count": null,
   "metadata": {
    "vscode": {
     "languageId": "plaintext"
    }
   },
   "outputs": [],
   "source": [
    "from multiprocessing import Process, Manager, Queue\n",
    "from multiprocessing.managers import ListProxy\n",
    "from fib_settings import MAX_FIB_NUMBER, ACTIVATE_PROCESS_COUNT\n",
    "import time\n",
    "\n",
    "def worker_process_func(tasks_queue: Queue, shared_list_object: ListProxy = None) -> None:\n",
    "    \"\"\"Функция, которая будет выполняться каждым отдельным процессом\"\"\"\n",
    "\n",
    "    def fibbonaci(number: int):\n",
    "        \"\"\"Функция для нахождения числа фибоначчи\"\"\"\n",
    "\n",
    "        if number == 0:\n",
    "            return 0\n",
    "        \n",
    "        if number < 2:\n",
    "            return 1\n",
    "        \n",
    "        fib_number: int = fibbonaci(number - 2) + fibbonaci(number - 1)\n",
    "        return fib_number\n",
    "    \n",
    "    # Процесс будет работать до тех пор, пока очередь задач полностью не опустеет\n",
    "    while not tasks_queue.empty():\n",
    "        one_number_task: int = tasks_queue.get()\n",
    "\n",
    "        fib_number = fibbonaci(one_number_task)\n",
    "\n",
    "        # В общий объект списка делаем добавление нашего результата (числа фибоначчи)\n",
    "        shared_list_object.append(fib_number)\n",
    "\n",
    "def main():\n",
    "    # Делаем создание объекта очереди\n",
    "    tasks_queue: Queue = Queue()\n",
    "\n",
    "    # Делаем добавление в очередь задач чисел для которых нужно будет найти числа фибоначчи\n",
    "    for one_number_task in range(0, MAX_FIB_NUMBER+1):\n",
    "        tasks_queue.put(one_number_task)\n",
    "\n",
    "    # Создаем общий объект списка результатов для того, чтобы процессы после высчитывания чисел \n",
    "    # фибоначчи, могли положить их туда, а мы после в главном процессе получить список результатов\n",
    "    manager_object = Manager()\n",
    "    shared_results_list = manager_object.list()\n",
    "\n",
    "\n",
    "    process_list = []\n",
    "\n",
    "    started_time = time.time()\n",
    "\n",
    "    # Делаем создание списка процессов, указывая количество процессов как константу\n",
    "    for one_process_index in range(0, ACTIVATE_PROCESS_COUNT):\n",
    "        # Указываем как аргументы очередь задач и общий объект списка для результатов\n",
    "        process_object = Process(target=worker_process_func, args=(\n",
    "            tasks_queue, shared_results_list\n",
    "        ))\n",
    "        process_list.append(process_object)\n",
    "\n",
    "    # Делаем перебор нашего списка процессов, после делаем запуск каждого процесса\n",
    "    for one_process in process_list:\n",
    "        one_process.start()\n",
    "\n",
    "    # Делаем перебор списка процессов, после делаем слияние каждого дочернего процесса с главным \n",
    "    # процессом, то есть делаем ожидание завершения работы всех процессов\n",
    "    for one_process in process_list:\n",
    "        one_process.join()\n",
    "\n",
    "    end_time = time.time()\n",
    "\n",
    "    results_list: list = list(shared_results_list)\n",
    "\n",
    "    print(f\"Время всех вычислений: {end_time - started_time} секунд\")\n",
    "    print(results_list)\n",
    "    print(\"После сортировки: \")\n",
    "    print(sorted(results_list))\n",
    "\n",
    "\n",
    "# Если этот файл был запущен из консоли\n",
    "if __name__ == \"__main__\":\n",
    "    main()"
   ]
  }
 ],
 "metadata": {
  "language_info": {
   "name": "python"
  }
 },
 "nbformat": 4,
 "nbformat_minor": 2
}
