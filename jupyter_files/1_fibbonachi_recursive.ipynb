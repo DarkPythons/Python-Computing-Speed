{
 "cells": [
  {
   "cell_type": "markdown",
   "metadata": {},
   "source": [
    "# Использование обычной рекурсии\n",
    "Использование самого обычного способа вычисления множества чисел при помощи рекурсии."
   ]
  },
  {
   "cell_type": "code",
   "execution_count": null,
   "metadata": {
    "vscode": {
     "languageId": "plaintext"
    }
   },
   "outputs": [],
   "source": [
    "import time\n",
    "from fib_settings import MAX_FIB_NUMBER\n",
    "\n",
    "\n",
    "def fibbonachi(number: int) -> int:\n",
    "    \"\"\"Функция для вычисления чисел Фибоначчи рекурсивным способом\"\"\"\n",
    "    \n",
    "    if number == 0:\n",
    "        return 0\n",
    "\n",
    "    if number < 2:\n",
    "        return 1\n",
    "    \n",
    "    number_fib = fibbonachi(number - 1) + fibbonachi(number - 2)\n",
    "    return number_fib\n",
    "\n",
    "def main():\n",
    "    \"\"\"Главная функция со всей логикой программы\"\"\"\n",
    "    tasks_list = []\n",
    "\n",
    "    # Создание списка задач\n",
    "    for one_number_task in range(0, MAX_FIB_NUMBER+1):\n",
    "        tasks_list.append(one_number_task)\n",
    "\n",
    "    fibbonachi_list = []\n",
    "    \n",
    "    started_time = time.time()\n",
    "\n",
    "    for index in range(0, MAX_FIB_NUMBER+1):\n",
    "        number = tasks_list[0]\n",
    "        fibbonachi_number: int = fibbonachi(number)\n",
    "        del tasks_list[0]\n",
    "\n",
    "        # Делаем добавление вычисленного числа фибоначчи в список чисел фибоначчи\n",
    "        fibbonachi_list.append(fibbonachi_number)\n",
    "\n",
    "    end_time = time.time()\n",
    "\n",
    "    print(f\"Время всех вычислений: {end_time - started_time} секунд\")\n",
    "    print(fibbonachi_list)\n",
    "\n",
    "# Если файл запустили из консоли\n",
    "if __name__ == \"__main__\":\n",
    "    main()"
   ]
  }
 ],
 "metadata": {
  "language_info": {
   "name": "python"
  }
 },
 "nbformat": 4,
 "nbformat_minor": 2
}
