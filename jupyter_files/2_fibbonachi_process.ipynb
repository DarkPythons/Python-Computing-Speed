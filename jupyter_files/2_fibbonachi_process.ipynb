{
 "cells": [
  {
   "cell_type": "markdown",
   "metadata": {},
   "source": [
    "# Один процесс - одно число фибоначчи\n",
    "Использование того же алгоритма рекурсии, но теперь вычисление каждого числа фибоначчи будет происходить в одном отдельном процессе, то есть процессов у нас будет столько же, сколько и задач."
   ]
  },
  {
   "cell_type": "code",
   "execution_count": null,
   "metadata": {
    "vscode": {
     "languageId": "plaintext"
    }
   },
   "outputs": [],
   "source": [
    "from multiprocessing import Process, Manager\n",
    "from multiprocessing.managers import ListProxy\n",
    "import time\n",
    "from fib_settings import MAX_FIB_NUMBER\n",
    "\n",
    "def fibbonachi(number: int, shared_list_object: ListProxy = None) -> int:\n",
    "    \"\"\"Функция для вычисления чисел Фибоначчи рекурсивным способом\"\"\"\n",
    "    \n",
    "    if number == 0:\n",
    "        return 0\n",
    "\n",
    "    if number < 2:\n",
    "        return 1\n",
    "    \n",
    "    number_fib = fibbonachi(number - 1) + fibbonachi(number - 2)\n",
    "\n",
    "    # Нужно сделать проверку, есть ли у нас общий список между процессами, если там будет None,     \n",
    "    # значит это просто функция, которая запущена рекурсивно, и делать добавление этого числа в \n",
    "    # результат не нужно\n",
    "    # Делаем проверку именно на None, так изначально список пустой, а [] считается за False\n",
    "    if shared_list_object != None:\n",
    "        # Делаем помещение в общий объект списка между процессами нашего числа фибоначчи\n",
    "        shared_list_object.append(number_fib)\n",
    "    return number_fib\n",
    "\n",
    "def main():\n",
    "    \"\"\"Главная функция со всей логикой программы\"\"\"\n",
    "    tasks_list = []\n",
    "\n",
    "    # Создаем общий объект списка результатов для того, чтобы процессы после высчитывания чисел \n",
    "    # фибоначчи, могли положить их туда, а мы после в главном процессе получить список результатов\n",
    "    manager_object = Manager()\n",
    "    results_lists = manager_object.list()\n",
    "\n",
    "    # Делаем добавление первых чисел\n",
    "    results_lists.append(0)\n",
    "    results_lists.append(1)\n",
    "\n",
    "    # Создание списка задач\n",
    "    for one_number_task in range(0, MAX_FIB_NUMBER+1):\n",
    "        tasks_list.append(one_number_task)\n",
    "\n",
    "    process_list = []\n",
    "\n",
    "    started_time = time.time()\n",
    "\n",
    "    # Создание списка незапущенных, но уже инициализированных процессов (точнее объектов)\n",
    "    for one_number_task in tasks_list:\n",
    "        process_object = Process(target=fibbonachi, args=(one_number_task, results_lists, ))\n",
    "        process_list.append(process_object)\n",
    "\n",
    "    # В этом цикле будет происходить запуск всех процессов, которые начнут выполнять функцию, с \n",
    "    # переданным ей параметром ранее\n",
    "    for one_process in process_list:\n",
    "        one_process.start()\n",
    "\n",
    "    # В этом цикле происходит слияние (присоединение) всех дочерних процессов к главному, и чтобы \n",
    "    # слияние произошло, нужно чтобы процесс завершил работу, поэтому ждем пока все процессы \n",
    "    # завершат вычисления\n",
    "    for one_process in process_list:\n",
    "        one_process.join()\n",
    "\n",
    "    end_time = time.time()\n",
    "\n",
    "    results_lists: list = list(results_lists)\n",
    "\n",
    "    print(f\"Время всех вычислений: {end_time - started_time} секунд\")\n",
    "    print(results_lists)\n",
    "    print(\"После сортировки: \")\n",
    "    print(sorted(results_lists))\n",
    "\n",
    "\n",
    "# Если файл запустили из консоли\n",
    "if __name__ == \"__main__\":\n",
    "    main()"
   ]
  }
 ],
 "metadata": {
  "language_info": {
   "name": "python"
  }
 },
 "nbformat": 4,
 "nbformat_minor": 2
}
