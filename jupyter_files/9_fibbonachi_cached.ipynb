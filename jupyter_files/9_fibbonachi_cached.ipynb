{
 "cells": [
  {
   "cell_type": "markdown",
   "metadata": {},
   "source": [
    "# Использование кэширования\n",
    "Использование кэширования. Так как мы используем рекурсию, у нас будет происходить вызов нашей функции множество раз с теми же параметрами, поэтому хорошим решением будет кэширование"
   ]
  },
  {
   "cell_type": "code",
   "execution_count": null,
   "metadata": {
    "vscode": {
     "languageId": "plaintext"
    }
   },
   "outputs": [],
   "source": [
    "from fib_settings import MAX_FIB_NUMBER\n",
    "from functools import lru_cache\n",
    "import time\n",
    "\n",
    "@lru_cache(maxsize=None)\n",
    "def fibbonachi(number: int) -> int:\n",
    "    \"\"\"Функция для вычисления чисел фибоначчи\"\"\"\n",
    "    if number == 0:\n",
    "        return 0\n",
    "    if number < 2:\n",
    "        return 1\n",
    "    \n",
    "    fib_number = fibbonachi(number - 2) + fibbonachi(number - 1)\n",
    "    return fib_number\n",
    "\n",
    "def main():\n",
    "    \"\"\"Главная функция\"\"\"\n",
    "\n",
    "    tasks_list = []\n",
    "\n",
    "    # Делаем перебор от 0 до максимального числа для которого нужно найти число фибоначчи, пополняя \n",
    "    # список задач\n",
    "    for one_number_task in range(0, MAX_FIB_NUMBER+1):\n",
    "        tasks_list.append(one_number_task)\n",
    "\n",
    "    results_list = []\n",
    "\n",
    "    start_time = time.time()\n",
    "\n",
    "    # Делаем вызов функции для нахождения числа фибоначчи от нашего числа, после помещаем число \n",
    "    # фибоначчи в список результатов\n",
    "    for one_number_task in tasks_list:\n",
    "        fib_number = fibbonachi(one_number_task)\n",
    "        results_list.append(fib_number)\n",
    "\n",
    "    end_time = time.time()\n",
    "\n",
    "    print(f\"Все вычисления заняли: {end_time - start_time} секунд\")\n",
    "    print(results_list)\n",
    "\n",
    "if __name__ == \"__main__\":\n",
    "    main()"
   ]
  }
 ],
 "metadata": {
  "language_info": {
   "name": "python"
  }
 },
 "nbformat": 4,
 "nbformat_minor": 2
}
