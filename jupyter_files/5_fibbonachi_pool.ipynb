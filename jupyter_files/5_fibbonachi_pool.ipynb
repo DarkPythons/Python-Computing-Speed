{
 "cells": [
  {
   "cell_type": "markdown",
   "metadata": {},
   "source": [
    "# Пул процессов для вычислений\n",
    "Использование специального класса Pool, который делает создание объекта пула, через который можно запустить несколько процессов, и дать этим процессам решать некоторые задачи"
   ]
  },
  {
   "cell_type": "code",
   "execution_count": null,
   "metadata": {
    "vscode": {
     "languageId": "plaintext"
    }
   },
   "outputs": [],
   "source": [
    "from multiprocessing import Pool\n",
    "from fib_settings import ACTIVATE_PROCESS_COUNT, MAX_FIB_NUMBER\n",
    "import time\n",
    "\n",
    "\n",
    "def fibbonachi(number: int) -> int:\n",
    "    \"\"\"Функция для вычисления чисел фибоначчи рекурсивным способом\"\"\"\n",
    "    if number == 0:\n",
    "        return 0\n",
    "    \n",
    "    if number < 2:\n",
    "        return 1\n",
    "    \n",
    "    fib_number = fibbonachi(number - 2) + fibbonachi(number - 1)\n",
    "    return fib_number\n",
    "\n",
    "def main():\n",
    "    \"\"\"Главная функция, которая содержит всю логику программы\"\"\"\n",
    "\n",
    "    tasks_list = []\n",
    "\n",
    "    # Делаем перебор от 0 до максимального числа, для которого нужно будет вычислить число \n",
    "    # фибоначчи, помещая все числа в список задач\n",
    "    for one_number_task in range(0, MAX_FIB_NUMBER+1):\n",
    "        tasks_list.append(one_number_task)\n",
    "\n",
    "    start_time = time.time()\n",
    "\n",
    "    # Делаем создание пула процессов, указывая какое количество процессов нам нужно\n",
    "    with Pool(ACTIVATE_PROCESS_COUNT) as pool_object:\n",
    "        result_map = pool_object.map(fibbonachi, tasks_list)\n",
    "        result_list = list(result_map)\n",
    "\n",
    "    end_time = time.time()\n",
    "\n",
    "    print(f\"Все вычисления заняли: {end_time - start_time} секунд\")\n",
    "    print(result_list)\n",
    "\n",
    "\n",
    "# Если программа запущена из консоли\n",
    "if __name__ == \"__main__\":\n",
    "    main()"
   ]
  }
 ],
 "metadata": {
  "language_info": {
   "name": "python"
  }
 },
 "nbformat": 4,
 "nbformat_minor": 2
}
