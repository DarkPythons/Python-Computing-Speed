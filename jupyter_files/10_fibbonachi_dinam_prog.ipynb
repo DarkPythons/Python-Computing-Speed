{
 "cells": [
  {
   "cell_type": "markdown",
   "metadata": {},
   "source": [
    "# Метод из динамического программирования\n",
    "Использование списка результатов (чисел фибоначчи), где мы брали по индексу предыдущее значение и пред-предыдущее, после чего складывали их, получая новое число фибоначчи"
   ]
  },
  {
   "cell_type": "code",
   "execution_count": null,
   "metadata": {
    "vscode": {
     "languageId": "plaintext"
    }
   },
   "outputs": [],
   "source": [
    "import time\n",
    "from fib_settings import MAX_FIB_NUMBER\n",
    "\n",
    "def main():\n",
    "\n",
    "    start_time = time.time()\n",
    "\n",
    "    results_list = [0, 1] + [None] * (MAX_FIB_NUMBER-1)\n",
    "\n",
    "    for one_index in range(2, MAX_FIB_NUMBER+1):\n",
    "        # Берем предудещее значение по индексу, еще более дальнее значение по индексу и складываем \n",
    "        # их\n",
    "        results_list[one_index] = results_list[one_index-1] + results_list[one_index-2]\n",
    "\n",
    "    end_time = time.time()\n",
    "\n",
    "    print(f\"Все вычисления заняли: {end_time - start_time} секунд\")\n",
    "    print(results_list)\n",
    "\n",
    "if __name__ == \"__main__\":\n",
    "    main()"
   ]
  }
 ],
 "metadata": {
  "language_info": {
   "name": "python"
  }
 },
 "nbformat": 4,
 "nbformat_minor": 2
}
